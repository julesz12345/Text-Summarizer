{
 "cells": [
  {
   "cell_type": "code",
   "execution_count": 1,
   "id": "8f22314f",
   "metadata": {},
   "outputs": [
    {
     "name": "stdout",
     "output_type": "stream",
     "text": [
      "Requirement already satisfied: networkx==2.6 in c:\\users\\jules\\anaconda3\\lib\\site-packages (2.6)\n",
      "Requirement already satisfied: scipy!=1.6.1,>=1.5 in c:\\users\\jules\\anaconda3\\lib\\site-packages (from networkx==2.6) (1.8.0)\n",
      "Requirement already satisfied: pandas>=1.1 in c:\\users\\jules\\anaconda3\\lib\\site-packages (from networkx==2.6) (1.4.2)\n",
      "Requirement already satisfied: matplotlib>=3.3 in c:\\users\\jules\\anaconda3\\lib\\site-packages (from networkx==2.6) (3.5.1)\n",
      "Requirement already satisfied: numpy>=1.19 in c:\\users\\jules\\anaconda3\\lib\\site-packages (from networkx==2.6) (1.21.5)\n",
      "Requirement already satisfied: kiwisolver>=1.0.1 in c:\\users\\jules\\anaconda3\\lib\\site-packages (from matplotlib>=3.3->networkx==2.6) (1.3.2)\n",
      "Requirement already satisfied: python-dateutil>=2.7 in c:\\users\\jules\\anaconda3\\lib\\site-packages (from matplotlib>=3.3->networkx==2.6) (2.8.2)\n",
      "Requirement already satisfied: packaging>=20.0 in c:\\users\\jules\\anaconda3\\lib\\site-packages (from matplotlib>=3.3->networkx==2.6) (21.3)\n",
      "Requirement already satisfied: pyparsing>=2.2.1 in c:\\users\\jules\\anaconda3\\lib\\site-packages (from matplotlib>=3.3->networkx==2.6) (3.0.4)\n",
      "Requirement already satisfied: fonttools>=4.22.0 in c:\\users\\jules\\anaconda3\\lib\\site-packages (from matplotlib>=3.3->networkx==2.6) (4.25.0)\n",
      "Requirement already satisfied: cycler>=0.10 in c:\\users\\jules\\anaconda3\\lib\\site-packages (from matplotlib>=3.3->networkx==2.6) (0.11.0)\n",
      "Requirement already satisfied: pillow>=6.2.0 in c:\\users\\jules\\anaconda3\\lib\\site-packages (from matplotlib>=3.3->networkx==2.6) (9.0.1)\n",
      "Requirement already satisfied: pytz>=2020.1 in c:\\users\\jules\\anaconda3\\lib\\site-packages (from pandas>=1.1->networkx==2.6) (2021.3)\n",
      "Requirement already satisfied: six>=1.5 in c:\\users\\jules\\anaconda3\\lib\\site-packages (from python-dateutil>=2.7->matplotlib>=3.3->networkx==2.6) (1.16.0)\n",
      "Note: you may need to restart the kernel to use updated packages.\n"
     ]
    }
   ],
   "source": [
    "\n",
    "\n",
    "pip install networkx==2.6"
   ]
  },
  {
   "cell_type": "code",
   "execution_count": 2,
   "id": "81f21fd4",
   "metadata": {},
   "outputs": [
    {
     "name": "stdout",
     "output_type": "stream",
     "text": [
      "Requirement already satisfied: scipy==1.8.0 in c:\\users\\jules\\anaconda3\\lib\\site-packages (1.8.0)\n",
      "Requirement already satisfied: numpy<1.25.0,>=1.17.3 in c:\\users\\jules\\anaconda3\\lib\\site-packages (from scipy==1.8.0) (1.21.5)\n",
      "Note: you may need to restart the kernel to use updated packages.\n"
     ]
    }
   ],
   "source": [
    "pip install scipy==1.8.0"
   ]
  },
  {
   "cell_type": "code",
   "execution_count": 3,
   "id": "a609e95e",
   "metadata": {},
   "outputs": [
    {
     "name": "stderr",
     "output_type": "stream",
     "text": [
      "[nltk_data] Downloading package stopwords to\n",
      "[nltk_data]     C:\\Users\\jules\\AppData\\Roaming\\nltk_data...\n",
      "[nltk_data]   Package stopwords is already up-to-date!\n"
     ]
    }
   ],
   "source": [
    "# Importing Packages\n",
    "\n",
    "import nltk\n",
    "nltk.download('stopwords')\n",
    "from nltk.corpus import stopwords\n",
    "from nltk.cluster.util import cosine_distance\n",
    "import numpy as np\n",
    "import networkx as nx\n",
    "import requests\n",
    "import pandas as pd\n",
    "import io"
   ]
  },
  {
   "cell_type": "code",
   "execution_count": 4,
   "id": "cf846150",
   "metadata": {},
   "outputs": [],
   "source": [
    "# Import data\n",
    "\n",
    "url = \"https://raw.githubusercontent.com/julesz12345/Text-Summarizer/main/articles.csv\"\n",
    "download = requests.get(url).content\n",
    "articles = pd.read_csv(io.StringIO(download.decode('utf-8')))"
   ]
  },
  {
   "cell_type": "code",
   "execution_count": 13,
   "id": "4dd180dc",
   "metadata": {},
   "outputs": [],
   "source": [
    "# Reading Article and Splitting it into Sentences\n",
    "\n",
    "def read_article(articles):\n",
    "    article = articles.split(\". \")\n",
    "    sentences = []\n",
    "    for sentence in article:\n",
    "        sentences.append(sentence.replace(\"[^a-zA-Z]\", \" \").split(\" \"))\n",
    "    sentences.pop() \n",
    "    \n",
    "    return sentences"
   ]
  },
  {
   "cell_type": "code",
   "execution_count": 6,
   "id": "94cd3300",
   "metadata": {},
   "outputs": [],
   "source": [
    "# Finding Similarity between Sentences\n",
    "\n",
    "def sentence_similarity(sent1, sent2, stopwords=None):\n",
    "    if stopwords is None:\n",
    "        stopwords = []\n",
    " \n",
    "    sent1 = [w.lower() for w in sent1]\n",
    "    sent2 = [w.lower() for w in sent2]\n",
    " \n",
    "    all_words = list(set(sent1 + sent2))\n",
    " \n",
    "    vector1 = [0] * len(all_words)\n",
    "    vector2 = [0] * len(all_words)\n",
    " \n",
    "    # build the vector for the first sentence\n",
    "    for w in sent1:\n",
    "        if w in stopwords:\n",
    "            continue\n",
    "        vector1[all_words.index(w)] += 1\n",
    " \n",
    "    # build the vector for the second sentence\n",
    "    for w in sent2:\n",
    "        if w in stopwords:\n",
    "            continue\n",
    "        vector2[all_words.index(w)] += 1\n",
    " \n",
    "    return 1 - cosine_distance(vector1, vector2)"
   ]
  },
  {
   "cell_type": "code",
   "execution_count": 7,
   "id": "e45edc8b",
   "metadata": {},
   "outputs": [],
   "source": [
    "# Building Similarity Matrix\n",
    "\n",
    "def build_similarity_matrix(sentences, stop_words):\n",
    "    # Create an empty similarity matrix\n",
    "    similarity_matrix = np.zeros((len(sentences), len(sentences)))\n",
    " \n",
    "    for idx1 in range(len(sentences)):\n",
    "        for idx2 in range(len(sentences)):\n",
    "            if idx1 == idx2: #ignore if both are same sentences\n",
    "                continue \n",
    "            similarity_matrix[idx1][idx2] = sentence_similarity(sentences[idx1], sentences[idx2], stop_words)\n",
    "\n",
    "    return similarity_matrix"
   ]
  },
  {
   "cell_type": "code",
   "execution_count": 14,
   "id": "33007c79",
   "metadata": {},
   "outputs": [
    {
     "name": "stdout",
     "output_type": "stream",
     "text": [
      "Summarize Text: \n",
      " Mark Hughes looks on with a smile as his Stoke City side cruise to a 2-0 win over Everton on Wednesday \n"
     ]
    }
   ],
   "source": [
    "# Extract Summary\n",
    "\n",
    "def generate_summary(articles, top_n=5):\n",
    "    stop_words = stopwords.words('english')\n",
    "    summarize_text = []\n",
    "\n",
    "    # Step 1 - Read text anc split it\n",
    "    sentences =  read_article(articles)\n",
    "\n",
    "    # Step 2 - Generate Similary Martix across sentences\n",
    "    sentence_similarity_martix = build_similarity_matrix(sentences, stop_words)\n",
    "\n",
    "    # Step 3 - Rank sentences in similarity martix\n",
    "    sentence_similarity_graph = nx.from_numpy_array(sentence_similarity_martix)\n",
    "    scores = nx.pagerank(sentence_similarity_graph)\n",
    "\n",
    "    # Step 4 - Sort the rank and pick top sentences\n",
    "    ranked_sentence = sorted(((scores[i],s) for i,s in enumerate(sentences)), reverse=True)       \n",
    "\n",
    "    for i in range(top_n):\n",
    "      summarize_text.append(\" \".join(ranked_sentence[i][1]))\n",
    "\n",
    "    # Step 5 - Offcourse, output the summarize texr\n",
    "    print(\"Summarize Text: \\n\", \". \".join(summarize_text))\n",
    "\n",
    "# let's begin\n",
    "text = articles['article'][5]\n",
    "generate_summary(text, 1)"
   ]
  },
  {
   "cell_type": "code",
   "execution_count": null,
   "id": "7774e3e5",
   "metadata": {},
   "outputs": [],
   "source": []
  }
 ],
 "metadata": {
  "kernelspec": {
   "display_name": "Python 3 (ipykernel)",
   "language": "python",
   "name": "python3"
  },
  "language_info": {
   "codemirror_mode": {
    "name": "ipython",
    "version": 3
   },
   "file_extension": ".py",
   "mimetype": "text/x-python",
   "name": "python",
   "nbconvert_exporter": "python",
   "pygments_lexer": "ipython3",
   "version": "3.9.12"
  }
 },
 "nbformat": 4,
 "nbformat_minor": 5
}
