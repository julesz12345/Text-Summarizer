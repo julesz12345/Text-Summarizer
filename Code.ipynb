{
 "cells": [
  {
   "cell_type": "code",
   "execution_count": 1,
   "id": "a080afe8",
   "metadata": {},
   "outputs": [
    {
     "name": "stdout",
     "output_type": "stream",
     "text": [
      "Requirement already satisfied: networkx==2.6 in c:\\users\\jules\\anaconda3\\lib\\site-packages (2.6)\n",
      "Requirement already satisfied: scipy!=1.6.1,>=1.5 in c:\\users\\jules\\anaconda3\\lib\\site-packages (from networkx==2.6) (1.8.0)\n",
      "Requirement already satisfied: pandas>=1.1 in c:\\users\\jules\\anaconda3\\lib\\site-packages (from networkx==2.6) (1.4.2)\n",
      "Requirement already satisfied: matplotlib>=3.3 in c:\\users\\jules\\anaconda3\\lib\\site-packages (from networkx==2.6) (3.5.1)\n",
      "Requirement already satisfied: numpy>=1.19 in c:\\users\\jules\\anaconda3\\lib\\site-packages (from networkx==2.6) (1.21.5)\n",
      "Requirement already satisfied: kiwisolver>=1.0.1 in c:\\users\\jules\\anaconda3\\lib\\site-packages (from matplotlib>=3.3->networkx==2.6) (1.3.2)\n",
      "Requirement already satisfied: python-dateutil>=2.7 in c:\\users\\jules\\anaconda3\\lib\\site-packages (from matplotlib>=3.3->networkx==2.6) (2.8.2)\n",
      "Requirement already satisfied: packaging>=20.0 in c:\\users\\jules\\anaconda3\\lib\\site-packages (from matplotlib>=3.3->networkx==2.6) (21.3)\n",
      "Requirement already satisfied: pyparsing>=2.2.1 in c:\\users\\jules\\anaconda3\\lib\\site-packages (from matplotlib>=3.3->networkx==2.6) (3.0.4)\n",
      "Requirement already satisfied: fonttools>=4.22.0 in c:\\users\\jules\\anaconda3\\lib\\site-packages (from matplotlib>=3.3->networkx==2.6) (4.25.0)\n",
      "Requirement already satisfied: cycler>=0.10 in c:\\users\\jules\\anaconda3\\lib\\site-packages (from matplotlib>=3.3->networkx==2.6) (0.11.0)\n",
      "Requirement already satisfied: pillow>=6.2.0 in c:\\users\\jules\\anaconda3\\lib\\site-packages (from matplotlib>=3.3->networkx==2.6) (9.0.1)\n",
      "Requirement already satisfied: pytz>=2020.1 in c:\\users\\jules\\anaconda3\\lib\\site-packages (from pandas>=1.1->networkx==2.6) (2021.3)\n",
      "Requirement already satisfied: six>=1.5 in c:\\users\\jules\\anaconda3\\lib\\site-packages (from python-dateutil>=2.7->matplotlib>=3.3->networkx==2.6) (1.16.0)\n",
      "Note: you may need to restart the kernel to use updated packages.\n"
     ]
    }
   ],
   "source": [
    "pip install networkx==2.6"
   ]
  },
  {
   "cell_type": "code",
   "execution_count": 2,
   "id": "aea18f9a",
   "metadata": {},
   "outputs": [
    {
     "name": "stdout",
     "output_type": "stream",
     "text": [
      "Requirement already satisfied: scipy==1.8.0 in c:\\users\\jules\\anaconda3\\lib\\site-packages (1.8.0)\n",
      "Requirement already satisfied: numpy<1.25.0,>=1.17.3 in c:\\users\\jules\\anaconda3\\lib\\site-packages (from scipy==1.8.0) (1.21.5)\n",
      "Note: you may need to restart the kernel to use updated packages.\n"
     ]
    }
   ],
   "source": [
    "pip install scipy==1.8.0"
   ]
  },
  {
   "cell_type": "code",
   "execution_count": 3,
   "id": "a609e95e",
   "metadata": {},
   "outputs": [
    {
     "name": "stderr",
     "output_type": "stream",
     "text": [
      "[nltk_data] Downloading package stopwords to\n",
      "[nltk_data]     C:\\Users\\jules\\AppData\\Roaming\\nltk_data...\n",
      "[nltk_data]   Package stopwords is already up-to-date!\n"
     ]
    }
   ],
   "source": [
    "# Importing Packages\n",
    "\n",
    "import nltk\n",
    "nltk.download('stopwords')\n",
    "from nltk.corpus import stopwords\n",
    "from nltk.cluster.util import cosine_distance\n",
    "import numpy as np\n",
    "import networkx as nx\n",
    "import requests\n",
    "import pandas as pd\n",
    "import io"
   ]
  },
  {
   "cell_type": "code",
   "execution_count": 4,
   "id": "cf846150",
   "metadata": {},
   "outputs": [],
   "source": [
    "# Import data\n",
    "\n",
    "url = \"https://raw.githubusercontent.com/julesz12345/Text-Summarizer/main/articles.csv\"\n",
    "download = requests.get(url).content\n",
    "articles = pd.read_csv(io.StringIO(download.decode('utf-8')))"
   ]
  },
  {
   "cell_type": "code",
   "execution_count": 5,
   "id": "4dd180dc",
   "metadata": {},
   "outputs": [],
   "source": [
    "# Reading Article and Splitting it into Sentences\n",
    "\n",
    "def read_article(articles):\n",
    "    article = articles.split(\". \")\n",
    "    sentences = []\n",
    "    for sentence in article:\n",
    "        print(sentence)\n",
    "        sentences.append(sentence.replace(\"[^a-zA-Z]\", \" \").split(\" \"))\n",
    "    sentences.pop() \n",
    "    \n",
    "    return sentences"
   ]
  },
  {
   "cell_type": "code",
   "execution_count": 6,
   "id": "94cd3300",
   "metadata": {},
   "outputs": [],
   "source": [
    "# Finding Similarity between Sentences\n",
    "\n",
    "def sentence_similarity(sent1, sent2, stopwords=None):\n",
    "    if stopwords is None:\n",
    "        stopwords = []\n",
    " \n",
    "    sent1 = [w.lower() for w in sent1]\n",
    "    sent2 = [w.lower() for w in sent2]\n",
    " \n",
    "    all_words = list(set(sent1 + sent2))\n",
    " \n",
    "    vector1 = [0] * len(all_words)\n",
    "    vector2 = [0] * len(all_words)\n",
    " \n",
    "    # build the vector for the first sentence\n",
    "    for w in sent1:\n",
    "        if w in stopwords:\n",
    "            continue\n",
    "        vector1[all_words.index(w)] += 1\n",
    " \n",
    "    # build the vector for the second sentence\n",
    "    for w in sent2:\n",
    "        if w in stopwords:\n",
    "            continue\n",
    "        vector2[all_words.index(w)] += 1\n",
    " \n",
    "    return 1 - cosine_distance(vector1, vector2)"
   ]
  },
  {
   "cell_type": "code",
   "execution_count": 7,
   "id": "e45edc8b",
   "metadata": {},
   "outputs": [],
   "source": [
    "# Building Similarity Matrix\n",
    "\n",
    "def build_similarity_matrix(sentences, stop_words):\n",
    "    # Create an empty similarity matrix\n",
    "    similarity_matrix = np.zeros((len(sentences), len(sentences)))\n",
    " \n",
    "    for idx1 in range(len(sentences)):\n",
    "        for idx2 in range(len(sentences)):\n",
    "            if idx1 == idx2: #ignore if both are same sentences\n",
    "                continue \n",
    "            similarity_matrix[idx1][idx2] = sentence_similarity(sentences[idx1], sentences[idx2], stop_words)\n",
    "\n",
    "    return similarity_matrix"
   ]
  },
  {
   "cell_type": "code",
   "execution_count": 11,
   "id": "33007c79",
   "metadata": {},
   "outputs": [
    {
     "name": "stdout",
     "output_type": "stream",
     "text": [
      "The team with the lowest transfer outlay this season rose unassumingly into eighth place on Wednesday night\n",
      "Stoke City beat Everton, to nobody’s great surprise, and look on course for their best Premier League finish yet – a year after their last\n",
      "Mark Hughes really should be in the running for those annual accolades saluting success amid all this\n",
      "Manager of the Year? Quite possibly\n",
      "Mark Hughes looks on with a smile as his Stoke City side cruise to a 2-0 win over Everton on Wednesday \n",
      "He has signed with remarkable shrewdness, shaped his players into a cohesive style, and overcome the set-backs of regular injuries to key players to guide Stoke to 42 points after 28 games\n",
      "His team registered 50 Premier League points in reaching ninth last term, two club records, but are currently in a rich vein of form and likely to go higher\n",
      "Seven wins from 11 in the league have seen Stoke nudge past West Ham United and Swansea – both clubs with claims to good seasons\n",
      "And all the while forking out less cash on recruits than Burnley\n",
      "That is the bit to amaze\n",
      "Hughes has committed £1.2million on bringing in new players this season: £800,000 on brilliant Bojan from Barcelona, and £400,000 on young centre-back Dionatan Teixeira from Slovakian side Dukla Banska Bystrica\n",
      "Mame Biram Diouf, scorer against Everton to take his tally to seven Premier League goals? Free from Hannover\n",
      "Jon Walters (centre) congratulates Mame Biram Diouf after he scored Stoke's second goal on Wednesday \n",
      "Phil Bardsley, a regular at right-back with 22 Premier League games? Free from Sunderland\n",
      "Steve Sidwell, who has been adept when called upon, also cost nothing after leaving Fulham\n",
      "Victor Moses, whose uncommonly good header broke the deadlock at the Britannia on Wednesday, is on loan from Chelsea\n",
      "Philipp Wollscheid, who has come into defence at a vital period to instant effect, is on loan from Bayer Leverkusen with view to permanent move this summer\n",
      "By contrast Burnley, hardly the most lavish of spenders, have parted with around £8m on transfer fees\n",
      "Michael Kightly was one of Sean Dyche’s purchases, at £1.5m, from Stoke\n",
      "Stoke also sold Cameron Jerome to Norwich and Ryan Shotton to Derby County for a combined cost of £2m – so in all are around £2.3m up on net transfer spend\n",
      "No wonder Hughes is being rewarded with a new three-year contract that he is expected to sign in the coming days\n",
      "His connections, influence, and words of persuasion played a big part in producing such positive market returns\n",
      "The acquisition of Bojan, once the rising star of Barcelona, was smoothed by Hughes’s association with the Catalan giants\n",
      "The player’s glistening form before he suffered a cruel knee injury, after initial struggles, a testament to Hughes’s motivational skills\n",
      "Bojan Krkic hit a rich vein of form before his season has ended by a knee ligament injury \n",
      "Clearly the support network from chairman Peter Coates, a Stoke fan since a boy and generous benefactor, and chief executive Tony Scholes enables Hughes to work to his full potential\n",
      "The foundations laid by Tony Pulis in getting Stoke up from the Championship seven years ago and stabilising the club as a Premier League presence will never be forgotten\n",
      "But Hughes has built on that, altering the side’s style to please the eye while retaining the strength of conviction which made Pulis’s reign so successful\n",
      "The four forwards in his 4-2-3-1 system are interchangeable, with Moses, Diouf, Bojan, Jon Walters, Marko Arnautovic, Stephen Ireland, Charlie Adam, and Peter Crouch forming various combinations throughout the campaign\n",
      "No shining lights as such, they offer a mixture of pace, nimble dexterity, and brawn\n",
      "Again the cost is worth noting\n",
      "Arnautovic was £2m from Werder Bremen, Ireland a free from Aston Villa\n",
      "Hughes’s other signings since taking charge have been Erik Pieters, £3m from PSV Eindhoven, Marc Muniesa, free from Barcelona, and Peter Odemwingie, a swap with Cardiff with Kenwyne Jones heading the other way\n",
      "Chelsea loanee Victor Moses (right) celebrates scoring Stoke's opener against Everton \n",
      "Hughes has spent £6.2m in four transfer windows and improved\n",
      "In this climate that is phenomenal\n",
      "Equivalent to one 10th of Angel Di Maria, let’s say\n",
      "Stoke are not averse to opening the wallet\n",
      "A £10m package for Xherdan Shaqiri was put together in January before the Swiss forward elected for Inter\n",
      "But when Stoke have suffered injuries it has not provoked a sudden splurge\n",
      "Bojan has been out since late January after rupturing his cruciate ligament and is not back until September\n",
      "Odemwingie has been out the entire campaign with the same injury\n",
      "Captain Ryan Shawcross has missed the last six weeks with a back injury and is not fit yet\n",
      "Moses missed two months with a thigh problem, Glenn Whelan was sidelined for five weeks\n",
      "Now Ireland is out with that gashed leg\n",
      "Hughes has rebuilt his managerial reputation after a disastrous spell at QPR \n",
      "There have been other knocks but these are important players absent for extended periods\n",
      "Hughes has addressed each situation as arisen and found a formula to cope\n",
      "When Muniesa and Marc Wilson were injured at the same time as Shawcross last month it looked foolhardy to have sent Robert Huth out on loan to Leicester\n",
      "But Stoke adjusted and came through\n",
      "After his disastrous spell at Queens Park Rangers, it appeared Hughes’s stock had fallen below Premier League level\n",
      "Coates had faith and is being rewarded\n",
      "Up next is a trip to face West Bromwich Albion and Pulis on March 14\n",
      "Last year’ s Premier League manager of the year and former Stoke boss versus his successor in both respects? Victory for Hughes would only strengthen that argument.\n",
      "Indexes of top ranked_sentence order are  [(0.048550878549419946, ['Mark', 'Hughes', 'looks', 'on', 'with', 'a', 'smile', 'as', 'his', 'Stoke', 'City', 'side', 'cruise', 'to', 'a', '2-0', 'win', 'over', 'Everton', 'on', 'Wednesday', '']), (0.03850996901251181, ['Stoke', 'City', 'beat', 'Everton,', 'to', 'nobody’s', 'great', 'surprise,', 'and', 'look', 'on', 'course', 'for', 'their', 'best', 'Premier', 'League', 'finish', 'yet', '–', 'a', 'year', 'after', 'their', 'last']), (0.036323732953641365, ['Stoke', 'also', 'sold', 'Cameron', 'Jerome', 'to', 'Norwich', 'and', 'Ryan', 'Shotton', 'to', 'Derby', 'County', 'for', 'a', 'combined', 'cost', 'of', '£2m', '–', 'so', 'in', 'all', 'are', 'around', '£2.3m', 'up', 'on', 'net', 'transfer', 'spend']), (0.0360088946869529, ['The', 'foundations', 'laid', 'by', 'Tony', 'Pulis', 'in', 'getting', 'Stoke', 'up', 'from', 'the', 'Championship', 'seven', 'years', 'ago', 'and', 'stabilising', 'the', 'club', 'as', 'a', 'Premier', 'League', 'presence', 'will', 'never', 'be', 'forgotten']), (0.03245929079990841, ['But', 'Stoke', 'adjusted', 'and', 'came', 'through']), (0.03222364727092526, ['Mame', 'Biram', 'Diouf,', 'scorer', 'against', 'Everton', 'to', 'take', 'his', 'tally', 'to', 'seven', 'Premier', 'League', 'goals?', 'Free', 'from', 'Hannover']), (0.03214986155578422, ['Seven', 'wins', 'from', '11', 'in', 'the', 'league', 'have', 'seen', 'Stoke', 'nudge', 'past', 'West', 'Ham', 'United', 'and', 'Swansea', '–', 'both', 'clubs', 'with', 'claims', 'to', 'good', 'seasons']), (0.031665222376718094, ['Clearly', 'the', 'support', 'network', 'from', 'chairman', 'Peter', 'Coates,', 'a', 'Stoke', 'fan', 'since', 'a', 'boy', 'and', 'generous', 'benefactor,', 'and', 'chief', 'executive', 'Tony', 'Scholes', 'enables', 'Hughes', 'to', 'work', 'to', 'his', 'full', 'potential']), (0.030538496223482803, ['Hughes', 'has', 'rebuilt', 'his', 'managerial', 'reputation', 'after', 'a', 'disastrous', 'spell', 'at', 'QPR', '']), (0.030266715504337502, ['Bojan', 'Krkic', 'hit', 'a', 'rich', 'vein', 'of', 'form', 'before', 'his', 'season', 'has', 'ended', 'by', 'a', 'knee', 'ligament', 'injury', '']), (0.02912215332808955, ['Stoke', 'are', 'not', 'averse', 'to', 'opening', 'the', 'wallet']), (0.028956286358918035, ['But', 'when', 'Stoke', 'have', 'suffered', 'injuries', 'it', 'has', 'not', 'provoked', 'a', 'sudden', 'splurge']), (0.028888457782673023, ['His', 'team', 'registered', '50', 'Premier', 'League', 'points', 'in', 'reaching', 'ninth', 'last', 'term,', 'two', 'club', 'records,', 'but', 'are', 'currently', 'in', 'a', 'rich', 'vein', 'of', 'form', 'and', 'likely', 'to', 'go', 'higher']), (0.028689210249865173, ['Hughes', 'has', 'spent', '£6.2m', 'in', 'four', 'transfer', 'windows', 'and', 'improved']), (0.026735280190902485, ['Michael', 'Kightly', 'was', 'one', 'of', 'Sean', 'Dyche’s', 'purchases,', 'at', '£1.5m,', 'from', 'Stoke']), (0.02641614179538799, ['After', 'his', 'disastrous', 'spell', 'at', 'Queens', 'Park', 'Rangers,', 'it', 'appeared', 'Hughes’s', 'stock', 'had', 'fallen', 'below', 'Premier', 'League', 'level']), (0.025717493359182043, ['Phil', 'Bardsley,', 'a', 'regular', 'at', 'right-back', 'with', '22', 'Premier', 'League', 'games?', 'Free', 'from', 'Sunderland']), (0.025631889151159538, ['Hughes', 'has', 'committed', '£1.2million', 'on', 'bringing', 'in', 'new', 'players', 'this', 'season:', '£800,000', 'on', 'brilliant', 'Bojan', 'from', 'Barcelona,', 'and', '£400,000', 'on', 'young', 'centre-back', 'Dionatan', 'Teixeira', 'from', 'Slovakian', 'side', 'Dukla', 'Banska', 'Bystrica']), (0.025484624951137198, ['He', 'has', 'signed', 'with', 'remarkable', 'shrewdness,', 'shaped', 'his', 'players', 'into', 'a', 'cohesive', 'style,', 'and', 'overcome', 'the', 'set-backs', 'of', 'regular', 'injuries', 'to', 'key', 'players', 'to', 'guide', 'Stoke', 'to', '42', 'points', 'after', '28', 'games']), (0.025104240483097572, ['Captain', 'Ryan', 'Shawcross', 'has', 'missed', 'the', 'last', 'six', 'weeks', 'with', 'a', 'back', 'injury', 'and', 'is', 'not', 'fit', 'yet']), (0.024510263043980844, ['No', 'wonder', 'Hughes', 'is', 'being', 'rewarded', 'with', 'a', 'new', 'three-year', 'contract', 'that', 'he', 'is', 'expected', 'to', 'sign', 'in', 'the', 'coming', 'days']), (0.02144973699197724, ['Chelsea', 'loanee', 'Victor', 'Moses', '(right)', 'celebrates', 'scoring', \"Stoke's\", 'opener', 'against', 'Everton', '']), (0.01982814435559296, ['Hughes', 'has', 'addressed', 'each', 'situation', 'as', 'arisen', 'and', 'found', 'a', 'formula', 'to', 'cope']), (0.01975856953298892, ['Hughes’s', 'other', 'signings', 'since', 'taking', 'charge', 'have', 'been', 'Erik', 'Pieters,', '£3m', 'from', 'PSV', 'Eindhoven,', 'Marc', 'Muniesa,', 'free', 'from', 'Barcelona,', 'and', 'Peter', 'Odemwingie,', 'a', 'swap', 'with', 'Cardiff', 'with', 'Kenwyne', 'Jones', 'heading', 'the', 'other', 'way']), (0.019709227624254737, ['Mark', 'Hughes', 'really', 'should', 'be', 'in', 'the', 'running', 'for', 'those', 'annual', 'accolades', 'saluting', 'success', 'amid', 'all', 'this']), (0.01843383915763961, ['Jon', 'Walters', '(centre)', 'congratulates', 'Mame', 'Biram', 'Diouf', 'after', 'he', 'scored', \"Stoke's\", 'second', 'goal', 'on', 'Wednesday', '']), (0.018350422387328605, ['Bojan', 'has', 'been', 'out', 'since', 'late', 'January', 'after', 'rupturing', 'his', 'cruciate', 'ligament', 'and', 'is', 'not', 'back', 'until', 'September']), (0.01720472120862952, ['Arnautovic', 'was', '£2m', 'from', 'Werder', 'Bremen,', 'Ireland', 'a', 'free', 'from', 'Aston', 'Villa']), (0.015051020974096704, ['But', 'Hughes', 'has', 'built', 'on', 'that,', 'altering', 'the', 'side’s', 'style', 'to', 'please', 'the', 'eye', 'while', 'retaining', 'the', 'strength', 'of', 'conviction', 'which', 'made', 'Pulis’s', 'reign', 'so', 'successful']), (0.014976655890676326, ['The', 'team', 'with', 'the', 'lowest', 'transfer', 'outlay', 'this', 'season', 'rose', 'unassumingly', 'into', 'eighth', 'place', 'on', 'Wednesday', 'night']), (0.014713512855665571, ['When', 'Muniesa', 'and', 'Marc', 'Wilson', 'were', 'injured', 'at', 'the', 'same', 'time', 'as', 'Shawcross', 'last', 'month', 'it', 'looked', 'foolhardy', 'to', 'have', 'sent', 'Robert', 'Huth', 'out', 'on', 'loan', 'to', 'Leicester']), (0.014480132951642848, ['Victor', 'Moses,', 'whose', 'uncommonly', 'good', 'header', 'broke', 'the', 'deadlock', 'at', 'the', 'Britannia', 'on', 'Wednesday,', 'is', 'on', 'loan', 'from', 'Chelsea']), (0.014391621444216112, ['The', 'four', 'forwards', 'in', 'his', '4-2-3-1', 'system', 'are', 'interchangeable,', 'with', 'Moses,', 'Diouf,', 'Bojan,', 'Jon', 'Walters,', 'Marko', 'Arnautovic,', 'Stephen', 'Ireland,', 'Charlie', 'Adam,', 'and', 'Peter', 'Crouch', 'forming', 'various', 'combinations', 'throughout', 'the', 'campaign']), (0.014193203546790902, ['The', 'player’s', 'glistening', 'form', 'before', 'he', 'suffered', 'a', 'cruel', 'knee', 'injury,', 'after', 'initial', 'struggles,', 'a', 'testament', 'to', 'Hughes’s', 'motivational', 'skills']), (0.012509198929964317, ['The', 'acquisition', 'of', 'Bojan,', 'once', 'the', 'rising', 'star', 'of', 'Barcelona,', 'was', 'smoothed', 'by', 'Hughes’s', 'association', 'with', 'the', 'Catalan', 'giants']), (0.011873285017837965, ['Odemwingie', 'has', 'been', 'out', 'the', 'entire', 'campaign', 'with', 'the', 'same', 'injury']), (0.011415515470489357, ['Steve', 'Sidwell,', 'who', 'has', 'been', 'adept', 'when', 'called', 'upon,', 'also', 'cost', 'nothing', 'after', 'leaving', 'Fulham']), (0.011105952105200566, ['Again', 'the', 'cost', 'is', 'worth', 'noting']), (0.010306288493682267, ['Moses', 'missed', 'two', 'months', 'with', 'a', 'thigh', 'problem,', 'Glenn', 'Whelan', 'was', 'sidelined', 'for', 'five', 'weeks']), (0.010228900342494095, ['By', 'contrast', 'Burnley,', 'hardly', 'the', 'most', 'lavish', 'of', 'spenders,', 'have', 'parted', 'with', 'around', '£8m', 'on', 'transfer', 'fees']), (0.008364040884981777, ['Now', 'Ireland', 'is', 'out', 'with', 'that', 'gashed', 'leg']), (0.008094504852954008, ['There', 'have', 'been', 'other', 'knocks', 'but', 'these', 'are', 'important', 'players', 'absent', 'for', 'extended', 'periods']), (0.006920675646623069, ['Philipp', 'Wollscheid,', 'who', 'has', 'come', 'into', 'defence', 'at', 'a', 'vital', 'period', 'to', 'instant', 'effect,', 'is', 'on', 'loan', 'from', 'Bayer', 'Leverkusen', 'with', 'view', 'to', 'permanent', 'move', 'this', 'summer']), (0.00687812567859778, ['Coates', 'had', 'faith', 'and', 'is', 'being', 'rewarded']), (0.00589884775159932, ['Up', 'next', 'is', 'a', 'trip', 'to', 'face', 'West', 'Bromwich', 'Albion', 'and', 'Pulis', 'on', 'March', '14']), (0.005701557116777366, ['A', '£10m', 'package', 'for', 'Xherdan', 'Shaqiri', 'was', 'put', 'together', 'in', 'January', 'before', 'the', 'Swiss', 'forward', 'elected', 'for', 'Inter']), (0.005420405109117819, ['Equivalent', 'to', 'one', '10th', 'of', 'Angel', 'Di', 'Maria,', 'let’s', 'say']), (0.00313152400835074, ['That', 'is', 'the', 'bit', 'to', 'amaze']), (0.00313152400835074, ['No', 'shining', 'lights', 'as', 'such,', 'they', 'offer', 'a', 'mixture', 'of', 'pace,', 'nimble', 'dexterity,', 'and', 'brawn']), (0.00313152400835074, ['Manager', 'of', 'the', 'Year?', 'Quite', 'possibly']), (0.00313152400835074, ['In', 'this', 'climate', 'that', 'is', 'phenomenal']), (0.00313152400835074, ['His', 'connections,', 'influence,', 'and', 'words', 'of', 'persuasion', 'played', 'a', 'big', 'part', 'in', 'producing', 'such', 'positive', 'market', 'returns']), (0.00313152400835074, ['And', 'all', 'the', 'while', 'forking', 'out', 'less', 'cash', 'on', 'recruits', 'than', 'Burnley'])]\n",
      "Summarize Text: \n",
      " Mark Hughes looks on with a smile as his Stoke City side cruise to a 2-0 win over Everton on Wednesday \n"
     ]
    }
   ],
   "source": [
    "# Extract Summary\n",
    "\n",
    "def generate_summary(articles, top_n=5):\n",
    "    stop_words = stopwords.words('english')\n",
    "    summarize_text = []\n",
    "\n",
    "    # Step 1 - Read text anc split it\n",
    "    sentences =  read_article(articles)\n",
    "\n",
    "    # Step 2 - Generate Similary Martix across sentences\n",
    "    sentence_similarity_martix = build_similarity_matrix(sentences, stop_words)\n",
    "\n",
    "    # Step 3 - Rank sentences in similarity martix\n",
    "    sentence_similarity_graph = nx.from_numpy_array(sentence_similarity_martix)\n",
    "    scores = nx.pagerank(sentence_similarity_graph)\n",
    "\n",
    "    # Step 4 - Sort the rank and pick top sentences\n",
    "    ranked_sentence = sorted(((scores[i],s) for i,s in enumerate(sentences)), reverse=True)       \n",
    "\n",
    "    for i in range(top_n):\n",
    "      summarize_text.append(\" \".join(ranked_sentence[i][1]))\n",
    "\n",
    "    # Step 5 - Offcourse, output the summarize texr\n",
    "    print(\"Summarize Text: \\n\", \". \".join(summarize_text))\n",
    "\n",
    "# let's begin\n",
    "text = articles['article'][5]\n",
    "generate_summary(text, 1)"
   ]
  },
  {
   "cell_type": "code",
   "execution_count": null,
   "id": "027b3ac8",
   "metadata": {},
   "outputs": [],
   "source": []
  }
 ],
 "metadata": {
  "kernelspec": {
   "display_name": "Python 3 (ipykernel)",
   "language": "python",
   "name": "python3"
  },
  "language_info": {
   "codemirror_mode": {
    "name": "ipython",
    "version": 3
   },
   "file_extension": ".py",
   "mimetype": "text/x-python",
   "name": "python",
   "nbconvert_exporter": "python",
   "pygments_lexer": "ipython3",
   "version": "3.9.12"
  }
 },
 "nbformat": 4,
 "nbformat_minor": 5
}
