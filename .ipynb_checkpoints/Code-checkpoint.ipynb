{
 "cells": [
  {
   "cell_type": "code",
   "execution_count": null,
   "id": "7630b760",
   "metadata": {},
   "outputs": [],
   "source": [
    "import numpy as np \n",
    "import pandas as pd "
   ]
  },
  {
   "cell_type": "code",
   "execution_count": null,
   "id": "b83f946d",
   "metadata": {},
   "outputs": [],
   "source": [
    "trainning_df = pd.read_csv('../input/newspaper-text-summarization-cnn-dailymail/cnn_dailymail/train.csv')"
   ]
  },
  {
   "cell_type": "code",
   "execution_count": null,
   "id": "9b5acff6",
   "metadata": {},
   "outputs": [],
   "source": [
    "MAX_LEN = 512\n",
    "SUMMARY_LEN = 150\n",
    "TRAINNING_SIZE = 5000"
   ]
  },
  {
   "cell_type": "code",
   "execution_count": null,
   "id": "a5e35d96",
   "metadata": {},
   "outputs": [],
   "source": [
    "trainning_df = trainning_df.iloc[0:TRAINNING_SIZE,:].copy()\n",
    "\n",
    "trainning_article_ls = list(trainning_df['article'])\n",
    "trainning_highlight_ls = list(trainning_df['highlights'])\n",
    "\n",
    "del trainning_df"
   ]
  },
  {
   "cell_type": "code",
   "execution_count": null,
   "id": "6a70b927",
   "metadata": {},
   "outputs": [],
   "source": [
    "from random import sample\n",
    "\n",
    "for index in sample(list(np.arange(len(trainning_article_ls))),3):\n",
    "    print('Original Text : ')\n",
    "    print(trainning_article_ls[index])\n",
    "\n",
    "    print('\\n\\nSummary Text : ')\n",
    "    print(trainning_highlight_ls[index])\n",
    "    \n",
    "    print('===========================================================================================================\\n\\n')"
   ]
  },
  {
   "cell_type": "code",
   "execution_count": null,
   "id": "040d302a",
   "metadata": {},
   "outputs": [],
   "source": [
    "print(len(trainning_article_ls))\n",
    "print(len(trainning_highlight_ls))"
   ]
  },
  {
   "cell_type": "code",
   "execution_count": null,
   "id": "8e0111ca",
   "metadata": {},
   "outputs": [],
   "source": [
    "df = pd.DataFrame(columns=['target_text','source_text'])\n",
    "df['target_text'] = trainning_highlight_ls\n",
    "df['source_text'] = ['summarize: '+item for item in trainning_article_ls]"
   ]
  },
  {
   "cell_type": "code",
   "execution_count": null,
   "id": "b74f63c7",
   "metadata": {},
   "outputs": [],
   "source": [
    "df.head()"
   ]
  },
  {
   "cell_type": "code",
   "execution_count": null,
   "id": "6aeccb18",
   "metadata": {},
   "outputs": [],
   "source": [
    "!pip install simplet5 -q"
   ]
  },
  {
   "cell_type": "code",
   "execution_count": null,
   "id": "621f98e6",
   "metadata": {},
   "outputs": [],
   "source": [
    "from simplet5 import SimpleT5\n",
    "\n",
    "model = SimpleT5()\n",
    "model.from_pretrained(model_type=\"t5\", model_name=\"t5-base\")"
   ]
  },
  {
   "cell_type": "code",
   "execution_count": null,
   "id": "1e6019c4",
   "metadata": {},
   "outputs": [],
   "source": [
    "MAX_EPOCHS = 5"
   ]
  },
  {
   "cell_type": "code",
   "execution_count": null,
   "id": "b31c6bd3",
   "metadata": {},
   "outputs": [],
   "source": [
    "model.train(train_df=df[0:(int)(0.7*TRAINNING_SIZE)],\n",
    "            eval_df=df[(int)(0.7*TRAINNING_SIZE):TRAINNING_SIZE], \n",
    "            source_max_token_len=MAX_LEN, \n",
    "            target_max_token_len=SUMMARY_LEN, \n",
    "            batch_size=8, max_epochs=MAX_EPOCHS, use_gpu=True)"
   ]
  },
  {
   "cell_type": "code",
   "execution_count": null,
   "id": "214fa2b9",
   "metadata": {},
   "outputs": [],
   "source": [
    "import os\n",
    "model_path = ''\n",
    "rootdir = 'outputs/'\n",
    "for it in os.scandir(rootdir):\n",
    "    if it.is_dir():\n",
    "        if 'simplet5-epoch-'+(str)(MAX_EPOCHS-1) in it.path:\n",
    "            model_path = it.path\n",
    "            print(model_path)"
   ]
  },
  {
   "cell_type": "code",
   "execution_count": null,
   "id": "ee7b22b7",
   "metadata": {},
   "outputs": [],
   "source": [
    "model.load_model(\"t5\",\"./\"+model_path, use_gpu=True)"
   ]
  },
  {
   "cell_type": "code",
   "execution_count": null,
   "id": "3bc6b85a",
   "metadata": {},
   "outputs": [],
   "source": [
    "import torch\n",
    "import json \n",
    "from transformers import T5Tokenizer, T5ForConditionalGeneration, T5Config\n",
    "\n",
    "no_tune_model = T5ForConditionalGeneration.from_pretrained('t5-base')\n",
    "tokenizer = T5Tokenizer.from_pretrained('t5-base')\n",
    "\n",
    "device = torch.device('cpu')"
   ]
  },
  {
   "cell_type": "code",
   "execution_count": null,
   "id": "cafed085",
   "metadata": {},
   "outputs": [],
   "source": [
    "from random import sample\n",
    "\n",
    "for index in sample(list(np.arange(len(trainning_article_ls))),5):\n",
    "    print('Original Text : ')\n",
    "    print(trainning_article_ls[index])\n",
    "\n",
    "    print('\\n\\nSummary Text : ')\n",
    "    print(trainning_highlight_ls[index])\n",
    "\n",
    "    print('\\n\\nFine tuned Predicted Summary Text : ')\n",
    "    print(model.predict(trainning_article_ls[index]))\n",
    "    \n",
    "    print('\\n\\nNot Fine tuned Predicted Summary Text : ')\n",
    "    preprocess_text = trainning_article_ls[index].strip().replace(\"\\n\",\"\")\n",
    "    t5_prepared_Text = \"summarize: \"+preprocess_text\n",
    "    tokenized_text = tokenizer.encode(t5_prepared_Text, return_tensors=\"pt\").to(device)\n",
    "    summary_ids = no_tune_model.generate(tokenized_text,\n",
    "                                        num_beams=4,\n",
    "                                        no_repeat_ngram_size=2,\n",
    "                                        min_length=30,\n",
    "                                        max_length=SUMMARY_LEN,\n",
    "                                        early_stopping=True)\n",
    "    output = tokenizer.decode(summary_ids[0], skip_special_tokens=True)\n",
    "    print(output)\n",
    "    print('===========================================================================================================\\n\\n')"
   ]
  },
  {
   "cell_type": "code",
   "execution_count": null,
   "id": "360a9d60",
   "metadata": {},
   "outputs": [],
   "source": []
  }
 ],
 "metadata": {
  "kernelspec": {
   "display_name": "Python 3 (ipykernel)",
   "language": "python",
   "name": "python3"
  },
  "language_info": {
   "codemirror_mode": {
    "name": "ipython",
    "version": 3
   },
   "file_extension": ".py",
   "mimetype": "text/x-python",
   "name": "python",
   "nbconvert_exporter": "python",
   "pygments_lexer": "ipython3",
   "version": "3.9.12"
  }
 },
 "nbformat": 4,
 "nbformat_minor": 5
}
