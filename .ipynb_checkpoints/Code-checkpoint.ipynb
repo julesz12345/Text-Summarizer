{
 "cells": [
  {
   "cell_type": "code",
   "execution_count": null,
   "id": "6045ed6c",
   "metadata": {},
   "outputs": [],
   "source": [
    "import numpy as np \n",
    "import pandas as pd "
   ]
  },
  {
   "cell_type": "code",
   "execution_count": null,
   "id": "4e27516e",
   "metadata": {},
   "outputs": [],
   "source": [
    "trainning_df = pd.read_csv('../input/newspaper-text-summarization-cnn-dailymail/cnn_dailymail/train.csv')"
   ]
  },
  {
   "cell_type": "code",
   "execution_count": null,
   "id": "a9fedd9b",
   "metadata": {},
   "outputs": [],
   "source": [
    "MAX_LEN = 512\n",
    "SUMMARY_LEN = 150\n",
    "TRAINNING_SIZE = 5000"
   ]
  },
  {
   "cell_type": "code",
   "execution_count": null,
   "id": "2bf623da",
   "metadata": {},
   "outputs": [],
   "source": [
    "trainning_df = trainning_df.iloc[0:TRAINNING_SIZE,:].copy()\n",
    "\n",
    "trainning_article_ls = list(trainning_df['article'])\n",
    "trainning_highlight_ls = list(trainning_df['highlights'])\n",
    "\n",
    "del trainning_df"
   ]
  },
  {
   "cell_type": "code",
   "execution_count": null,
   "id": "69d8310b",
   "metadata": {},
   "outputs": [],
   "source": [
    "from random import sample\n",
    "\n",
    "for index in sample(list(np.arange(len(trainning_article_ls))),3):\n",
    "    print('Original Text : ')\n",
    "    print(trainning_article_ls[index])\n",
    "\n",
    "    print('\\n\\nSummary Text : ')\n",
    "    print(trainning_highlight_ls[index])\n",
    "    \n",
    "    print('===========================================================================================================\\n\\n')"
   ]
  },
  {
   "cell_type": "code",
   "execution_count": null,
   "id": "fffb2d69",
   "metadata": {},
   "outputs": [],
   "source": [
    "print(len(trainning_article_ls))\n",
    "print(len(trainning_highlight_ls))"
   ]
  },
  {
   "cell_type": "code",
   "execution_count": null,
   "id": "d52313fd",
   "metadata": {},
   "outputs": [],
   "source": [
    "df = pd.DataFrame(columns=['target_text','source_text'])\n",
    "df['target_text'] = trainning_highlight_ls\n",
    "df['source_text'] = ['summarize: '+item for item in trainning_article_ls]"
   ]
  },
  {
   "cell_type": "code",
   "execution_count": null,
   "id": "72d9ec68",
   "metadata": {},
   "outputs": [],
   "source": [
    "df.head()"
   ]
  },
  {
   "cell_type": "code",
   "execution_count": null,
   "id": "b9662a21",
   "metadata": {},
   "outputs": [],
   "source": [
    "!pip install simplet5 -q"
   ]
  },
  {
   "cell_type": "code",
   "execution_count": null,
   "id": "a6745398",
   "metadata": {},
   "outputs": [],
   "source": [
    "from simplet5 import SimpleT5\n",
    "\n",
    "model = SimpleT5()\n",
    "model.from_pretrained(model_type=\"t5\", model_name=\"t5-base\")"
   ]
  },
  {
   "cell_type": "code",
   "execution_count": null,
   "id": "82d71321",
   "metadata": {},
   "outputs": [],
   "source": []
  }
 ],
 "metadata": {
  "kernelspec": {
   "display_name": "Python 3 (ipykernel)",
   "language": "python",
   "name": "python3"
  },
  "language_info": {
   "codemirror_mode": {
    "name": "ipython",
    "version": 3
   },
   "file_extension": ".py",
   "mimetype": "text/x-python",
   "name": "python",
   "nbconvert_exporter": "python",
   "pygments_lexer": "ipython3",
   "version": "3.9.12"
  }
 },
 "nbformat": 4,
 "nbformat_minor": 5
}
