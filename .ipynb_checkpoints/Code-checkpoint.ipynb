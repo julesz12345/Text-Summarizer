{
 "cells": [
  {
   "cell_type": "code",
   "execution_count": null,
   "id": "c2e0fc04",
   "metadata": {},
   "outputs": [],
   "source": [
    "import numpy as np \n",
    "import pandas as pd "
   ]
  },
  {
   "cell_type": "code",
   "execution_count": null,
   "id": "74959c76",
   "metadata": {},
   "outputs": [],
   "source": [
    "trainning_df = pd.read_csv('../input/newspaper-text-summarization-cnn-dailymail/cnn_dailymail/train.csv')"
   ]
  },
  {
   "cell_type": "code",
   "execution_count": null,
   "id": "1ff79ee2",
   "metadata": {},
   "outputs": [],
   "source": [
    "MAX_LEN = 512\n",
    "SUMMARY_LEN = 150\n",
    "TRAINNING_SIZE = 5000"
   ]
  },
  {
   "cell_type": "code",
   "execution_count": null,
   "id": "c84aedbb",
   "metadata": {},
   "outputs": [],
   "source": [
    "trainning_df = trainning_df.iloc[0:TRAINNING_SIZE,:].copy()\n",
    "\n",
    "trainning_article_ls = list(trainning_df['article'])\n",
    "trainning_highlight_ls = list(trainning_df['highlights'])\n",
    "\n",
    "del trainning_df"
   ]
  },
  {
   "cell_type": "code",
   "execution_count": null,
   "id": "25d22855",
   "metadata": {},
   "outputs": [],
   "source": [
    "from random import sample\n",
    "\n",
    "for index in sample(list(np.arange(len(trainning_article_ls))),3):\n",
    "    print('Original Text : ')\n",
    "    print(trainning_article_ls[index])\n",
    "\n",
    "    print('\\n\\nSummary Text : ')\n",
    "    print(trainning_highlight_ls[index])\n",
    "    \n",
    "    print('===========================================================================================================\\n\\n')"
   ]
  },
  {
   "cell_type": "code",
   "execution_count": null,
   "id": "48a79477",
   "metadata": {},
   "outputs": [],
   "source": [
    "print(len(trainning_article_ls))\n",
    "print(len(trainning_highlight_ls))"
   ]
  },
  {
   "cell_type": "code",
   "execution_count": null,
   "id": "4030c66f",
   "metadata": {},
   "outputs": [],
   "source": [
    "df = pd.DataFrame(columns=['target_text','source_text'])\n",
    "df['target_text'] = trainning_highlight_ls\n",
    "df['source_text'] = ['summarize: '+item for item in trainning_article_ls]"
   ]
  },
  {
   "cell_type": "code",
   "execution_count": null,
   "id": "29ed9857",
   "metadata": {},
   "outputs": [],
   "source": [
    "df.head()"
   ]
  },
  {
   "cell_type": "code",
   "execution_count": null,
   "id": "1d3efd54",
   "metadata": {},
   "outputs": [],
   "source": [
    "!pip install simplet5 -q"
   ]
  },
  {
   "cell_type": "code",
   "execution_count": null,
   "id": "e5c98204",
   "metadata": {},
   "outputs": [],
   "source": [
    "from simplet5 import SimpleT5\n",
    "\n",
    "model = SimpleT5()\n",
    "model.from_pretrained(model_type=\"t5\", model_name=\"t5-base\")"
   ]
  },
  {
   "cell_type": "code",
   "execution_count": null,
   "id": "1d86f499",
   "metadata": {},
   "outputs": [],
   "source": [
    "MAX_EPOCHS = 5"
   ]
  },
  {
   "cell_type": "code",
   "execution_count": null,
   "id": "08655045",
   "metadata": {},
   "outputs": [],
   "source": [
    "model.train(train_df=df[0:(int)(0.7*TRAINNING_SIZE)],\n",
    "            eval_df=df[(int)(0.7*TRAINNING_SIZE):TRAINNING_SIZE], \n",
    "            source_max_token_len=MAX_LEN, \n",
    "            target_max_token_len=SUMMARY_LEN, \n",
    "            batch_size=8, max_epochs=MAX_EPOCHS, use_gpu=True)"
   ]
  },
  {
   "cell_type": "code",
   "execution_count": null,
   "id": "ad2645bb",
   "metadata": {},
   "outputs": [],
   "source": []
  }
 ],
 "metadata": {
  "kernelspec": {
   "display_name": "Python 3 (ipykernel)",
   "language": "python",
   "name": "python3"
  },
  "language_info": {
   "codemirror_mode": {
    "name": "ipython",
    "version": 3
   },
   "file_extension": ".py",
   "mimetype": "text/x-python",
   "name": "python",
   "nbconvert_exporter": "python",
   "pygments_lexer": "ipython3",
   "version": "3.9.12"
  }
 },
 "nbformat": 4,
 "nbformat_minor": 5
}
